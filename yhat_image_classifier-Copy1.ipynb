{
 "cells": [
  {
   "cell_type": "code",
   "execution_count": 28,
   "metadata": {
    "collapsed": false
   },
   "outputs": [
    {
     "name": "stderr",
     "output_type": "stream",
     "text": [
      "/home/vm/anaconda3/lib/python3.5/site-packages/bs4/__init__.py:166: UserWarning: No parser was explicitly specified, so I'm using the best available HTML parser for this system (\"lxml\"). This usually isn't a problem, but if you run this code on another system, or in a different virtual environment, it may use a different parser and behave differently.\n",
      "\n",
      "To get rid of this warning, change this:\n",
      "\n",
      " BeautifulSoup([your markup])\n",
      "\n",
      "to this:\n",
      "\n",
      " BeautifulSoup([your markup], \"lxml\")\n",
      "\n",
      "  markup_type=markup_type))\n"
     ]
    }
   ],
   "source": [
    "from bs4 import BeautifulSoup\n",
    "import requests\n",
    "import re\n",
    "from urllib.request import urlopen\n",
    "import os\n",
    "\n",
    "\n",
    "def get_soup(url):\n",
    "    return BeautifulSoup(requests.get(url).text)\n",
    "\n",
    "image_type = \"sunrise\"\n",
    "query = \"sunrise\"\n",
    "url = \"http://www.bing.com/images/search?q=\" + query + \"&qft=+filterui:color2-bw+filterui:imagesize-large&FORM=R5IR3\"\n",
    "\n",
    "soup = get_soup(url)\n",
    "images = [a['src'] for a in soup.find_all(\"img\", {\"src\": re.compile(\"mm.bing.net\")})]\n",
    "\n",
    "for img in images:\n",
    "    raw_img = urlopen(img).read()\n",
    "    cntr = len([i for i in os.listdir(\"images\") if image_type in i]) + 1\n",
    "    f = open(\"images/\" + image_type + \"_\"+ str(cntr), 'wb')\n",
    "    f.write(raw_img)\n",
    "    f.close()"
   ]
  },
  {
   "cell_type": "code",
   "execution_count": 1,
   "metadata": {
    "collapsed": false
   },
   "outputs": [],
   "source": [
    "import pandas as pd\n",
    "import numpy as np\n",
    "import pylab as pl\n",
    "import PIL\n",
    "from PIL import Image\n",
    "import os\n",
    "import base64\n",
    "from io import StringIO"
   ]
  },
  {
   "cell_type": "code",
   "execution_count": 47,
   "metadata": {
    "collapsed": false
   },
   "outputs": [],
   "source": [
    "from sklearn.decomposition import RandomizedPCA\n",
    "from sklearn.decomposition import PCA\n",
    "\n",
    "from sklearn.neighbors import KNeighborsClassifier"
   ]
  },
  {
   "cell_type": "code",
   "execution_count": 48,
   "metadata": {
    "collapsed": false
   },
   "outputs": [],
   "source": [
    "%matplotlib inline"
   ]
  },
  {
   "cell_type": "markdown",
   "metadata": {},
   "source": [
    "<h2>Importing Image Data</h2>"
   ]
  },
  {
   "cell_type": "markdown",
   "metadata": {},
   "source": [
    "<h5>Create Processing Functions</h5>"
   ]
  },
  {
   "cell_type": "code",
   "execution_count": 49,
   "metadata": {
    "collapsed": false
   },
   "outputs": [],
   "source": [
    "#setup a standard image size; this will distort some images but will get everything into the same shape\n",
    "STANDARD_SIZE = (230, 170)\n",
    "def img_to_matrix(filename, verbose=False):\n",
    "    \"\"\"\n",
    "    takes a filename and turns it into a numpy array of RGB pixels\n",
    "    \"\"\"\n",
    "    img = PIL.Image.open(filename)\n",
    "    if verbose==True:\n",
    "        print(\"changing size from %s to %s\" % (str(img.size), str(STANDARD_SIZE)))\n",
    "    img = img.resize(STANDARD_SIZE)\n",
    "    #img = list(img.getdata())\n",
    "    #img = map(list, img)\n",
    "    img = np.array(img)\n",
    "    return img\n",
    "\n",
    "def flatten_image(img):\n",
    "    \"\"\"\n",
    "    takes in an (m, n) numpy array and flattens it \n",
    "    into an array of shape (1, m * n)\n",
    "    \"\"\"\n",
    "    s = img.shape[0] * img.shape[1]\n",
    "    img_wide = img.reshape(1, img.size)\n",
    "    return img_wide[0]"
   ]
  },
  {
   "cell_type": "code",
   "execution_count": 50,
   "metadata": {
    "collapsed": false
   },
   "outputs": [],
   "source": [
    "filename = \"/home/vm/sunset/images/sunset_1\"\n",
    "img = PIL.Image.open(filename)\n",
    "i = np.array(img.getdata())"
   ]
  },
  {
   "cell_type": "code",
   "execution_count": 51,
   "metadata": {
    "collapsed": false
   },
   "outputs": [
    {
     "data": {
      "text/plain": [
       "(39100, 3)"
      ]
     },
     "execution_count": 51,
     "metadata": {},
     "output_type": "execute_result"
    }
   ],
   "source": [
    "i.shape"
   ]
  },
  {
   "cell_type": "code",
   "execution_count": 79,
   "metadata": {
    "collapsed": false
   },
   "outputs": [
    {
     "data": {
      "text/plain": [
       "'jpeg'"
      ]
     },
     "execution_count": 79,
     "metadata": {},
     "output_type": "execute_result"
    }
   ],
   "source": [
    "from skimage import *\n",
    "from skimage import novice\n",
    "novice?\n",
    "picture = novice.open('/home/vm/sunset/images/sunset_1')\n",
    "picture.format\n"
   ]
  },
  {
   "cell_type": "code",
   "execution_count": 80,
   "metadata": {
    "collapsed": true
   },
   "outputs": [],
   "source": [
    "skimage?"
   ]
  },
  {
   "cell_type": "markdown",
   "metadata": {},
   "source": [
    "<h5>Define the location of your data and import it</h5>"
   ]
  },
  {
   "cell_type": "code",
   "execution_count": 52,
   "metadata": {
    "collapsed": false
   },
   "outputs": [
    {
     "data": {
      "text/plain": [
       "array([[217, 217, 217, ..., 223, 223, 223],\n",
       "       [221, 221, 221, ..., 221, 221, 221],\n",
       "       [221, 221, 221, ..., 221, 221, 221],\n",
       "       ..., \n",
       "       [221, 221, 221, ..., 221, 221, 221],\n",
       "       [221, 221, 221, ..., 221, 221, 221],\n",
       "       [221, 221, 221, ..., 221, 221, 221]], dtype=uint8)"
      ]
     },
     "execution_count": 52,
     "metadata": {},
     "output_type": "execute_result"
    }
   ],
   "source": [
    "# TODO PATH TO YOUR DATA\n",
    "img_dir = \"/home/vm/sunset/images/\"\n",
    "images = [img_dir+ f for f in os.listdir(img_dir)]\n",
    "labels = [\"sunset\" if \"sunset\" in f.split('/')[-1] else \"sunrise\" for f in images]\n",
    "\n",
    "data = []\n",
    "for image in images:\n",
    "    img = img_to_matrix(image)\n",
    "    img_flat = flatten_image(img)\n",
    "    \n",
    "    #img_flat = flatten_image(image)\n",
    "    data.append(img_flat)\n",
    "\n",
    "data = np.array(data)\n",
    "data"
   ]
  },
  {
   "cell_type": "markdown",
   "metadata": {},
   "source": [
    "<h2>Creating Features</h2>"
   ]
  },
  {
   "cell_type": "markdown",
   "metadata": {},
   "source": [
    "<h5>Define a training and test set</h5>"
   ]
  },
  {
   "cell_type": "code",
   "execution_count": 54,
   "metadata": {
    "collapsed": false
   },
   "outputs": [],
   "source": [
    "is_train = np.random.uniform(0, 1, len(data)) <= 0.7\n",
    "y = np.where(np.array(labels)==\"check\", 1, 0)\n",
    "\n",
    "train_x, train_y = data[is_train], y[is_train]\n",
    "test_x, test_y = data[is_train==False], y[is_train==False]"
   ]
  },
  {
   "cell_type": "markdown",
   "metadata": {},
   "source": [
    "<h5>RandomizedPCA to create features</h5>\n",
    "<p>Before we actually create our feature vectors, we're going to show a demo of <code>RandomizedPCA</code> in 2 dimensions. This makes it easy to plot high dimensional data</p>"
   ]
  },
  {
   "cell_type": "code",
   "execution_count": 55,
   "metadata": {
    "collapsed": false
   },
   "outputs": [
    {
     "data": {
      "text/plain": [
       "<matplotlib.legend.Legend at 0x7ff6a72b45f8>"
      ]
     },
     "execution_count": 55,
     "metadata": {},
     "output_type": "execute_result"
    },
    {
     "data": {
      "image/png": "[encoded data removed]",
      "text/plain": [
       "<matplotlib.figure.Figure at 0x7ff6a7f4b748>"
      ]
     },
     "metadata": {},
     "output_type": "display_data"
    }
   ],
   "source": [
    "pca = PCA(svd_solver='randomized',n_components=2)\n",
    "X = pca.fit_transform(data)\n",
    "df = pd.DataFrame({\"x\": X[:, 0], \"y\": X[:, 1], \"label\":np.where(y==1, \"sunset\", \"sunrise\")})\n",
    "colors = [\"red\", \"yellow\"]\n",
    "for label, color in zip(df['label'].unique(), colors):\n",
    "    mask = df['label']==label\n",
    "    pl.scatter(df[mask]['x'], df[mask]['y'], c=color, label=label)\n",
    "pl.legend()"
   ]
  },
  {
   "cell_type": "code",
   "execution_count": 56,
   "metadata": {
    "collapsed": false
   },
   "outputs": [
    {
     "data": {
      "text/plain": [
       "array([[ -1999.49985383,  -7254.56304811],\n",
       "       [   635.55978115, -15747.37339698],\n",
       "       [-12585.94006619,  -1129.48929177],\n",
       "       [ 11166.65957139,  -1478.18569219],\n",
       "       [ -7397.67751393,   9175.31878914],\n",
       "       [ -6513.96634769,   6248.63666399],\n",
       "       [-15572.34452853,  20730.81559644],\n",
       "       [-19971.43452519,  -2015.1081599 ],\n",
       "       [ -7449.07473321,  12085.94751901],\n",
       "       [ 28336.02000508,  -8040.18020843],\n",
       "       [  3633.4272769 ,   8660.69906827],\n",
       "       [-12198.76827661,  17068.22672951],\n",
       "       [ -4703.66323534,  -8200.90163609],\n",
       "       [ -3602.27454687,   6306.56808061],\n",
       "       [ 27120.83254832,  -2764.06526401],\n",
       "       [ 16123.12353939,   6963.38705036],\n",
       "       [  7588.78220785,   1636.51806605],\n",
       "       [ -1631.66239264,   9969.05322201],\n",
       "       [   628.23821271,   7401.18085727],\n",
       "       [ -6094.36961602,   6161.33729236],\n",
       "       [ 13486.03360595,   8696.9214047 ],\n",
       "       [ -8567.35194788,  -5364.12918954],\n",
       "       [ -1211.90056482,  -8650.76184396],\n",
       "       [  3290.44466123, -15396.33540116],\n",
       "       [  7831.00011829,  -4923.69370156],\n",
       "       [ 13173.80572405,  -2588.31287277],\n",
       "       [ -5463.45644754,  11884.29184669],\n",
       "       [-12233.84023803, -11390.58863616],\n",
       "       [  -665.18972816,  -9413.04091767],\n",
       "       [ -7575.62133111,   5872.98286514],\n",
       "       [  5594.96599547,  11898.85775956],\n",
       "       [ -4577.7563    ,  11976.89816054],\n",
       "       [-10109.29806176, -12024.08924689],\n",
       "       [ -5906.48085974,  -6577.62990751],\n",
       "       [ -7425.16554418, -10930.47619366],\n",
       "       [   973.01470382, -14551.25542957],\n",
       "       [ 26384.6427394 ,  -3540.28658761],\n",
       "       [ -4646.45414586,  -9635.53840599],\n",
       "       [ -7837.56856975,  -6190.86538877],\n",
       "       [ -6004.31542499,   2624.43382992],\n",
       "       [ -2504.55361987,   3292.0580392 ],\n",
       "       [ 26533.3267805 ,  -2741.97286744],\n",
       "       [ -3359.14830324,  10728.4312199 ],\n",
       "       [-14748.24966142,  -5493.04673034],\n",
       "       [ -3806.15410279, -15581.17467354],\n",
       "       [ 18801.85229277,   7084.95284276],\n",
       "       [  -484.00992769, -10224.08751428],\n",
       "       [ -2279.70376633,   8639.75421147],\n",
       "       [ 20359.74107277,   3802.76585508],\n",
       "       [ 13499.14670244,  11131.66097656],\n",
       "       [ -8165.04104587,  -2874.04482692],\n",
       "       [  3315.0920075 ,   4414.13154372],\n",
       "       [ -3656.4089896 ,  -9308.03260736],\n",
       "       [-16310.77262338,  -3562.58470725],\n",
       "       [-10484.33266671,  -6139.80660244],\n",
       "       [  -732.26004022,   9275.7914596 ]])"
      ]
     },
     "execution_count": 56,
     "metadata": {},
     "output_type": "execute_result"
    }
   ],
   "source": [
    "X"
   ]
  },
  {
   "cell_type": "markdown",
   "metadata": {},
   "source": [
    "<h2>RandomizedPCA in 5 dimensions</h2>\n",
    "<p>Instead of 2 dimenisons, we're going to do RandomizedPCA in 5 dimensions. This will make it a bit harder to visualize, but it will make it easier for some of the classifiers to work with the dataset.</p>"
   ]
  },
  {
   "cell_type": "code",
   "execution_count": 57,
   "metadata": {
    "collapsed": false
   },
   "outputs": [
    {
     "name": "stderr",
     "output_type": "stream",
     "text": [
      "/home/vm/anaconda3/lib/python3.5/site-packages/sklearn/utils/deprecation.py:52: DeprecationWarning: Class RandomizedPCA is deprecated; RandomizedPCA was deprecated in 0.18 and will be removed in 0.20. Use PCA(svd_solver='randomized') instead. The new implementation DOES NOT store whiten ``components_``. Apply transform to get them.\n",
      "  warnings.warn(msg, category=DeprecationWarning)\n"
     ]
    }
   ],
   "source": [
    "pca = RandomizedPCA(n_components=5)\n",
    "train_x = pca.fit_transform(train_x)\n",
    "test_x = pca.transform(test_x)"
   ]
  },
  {
   "cell_type": "markdown",
   "metadata": {},
   "source": [
    "<p>This gives our classifier a nice set of tabular data that we can then use to train the model</p>"
   ]
  },
  {
   "cell_type": "code",
   "execution_count": 58,
   "metadata": {
    "collapsed": false
   },
   "outputs": [
    {
     "data": {
      "text/plain": [
       "array([[ -1311.11922076, -10870.31351215,   7926.38018021,   2476.7649986 ,\n",
       "         -9568.3553938 ],\n",
       "       [   492.02226217, -18590.66566089,   7975.50443822,   6508.28525551,\n",
       "         -1339.15227997],\n",
       "       [-10964.10714947,   5474.8653788 , -14620.2409875 ,   1185.39711496,\n",
       "          6497.31231575],\n",
       "       [ -6459.64057407,   3128.61047425,  12601.78326709,   -829.59731307,\n",
       "         -4110.00581381],\n",
       "       [-13757.28014181,  23105.6222832 ,   -880.81685849,  -3911.98863557,\n",
       "         -7358.38834254]])"
      ]
     },
     "execution_count": 58,
     "metadata": {},
     "output_type": "execute_result"
    }
   ],
   "source": [
    "train_x[:5]"
   ]
  },
  {
   "cell_type": "markdown",
   "metadata": {},
   "source": [
    "<p>We're going to be using a <code>K-Nearest Neighbors</code> classifier. Based on our set of training data, we're going to caclulate which training obersvations are closest to a given test point. Whichever class has the most votes wins.</p>"
   ]
  },
  {
   "cell_type": "code",
   "execution_count": 59,
   "metadata": {
    "collapsed": false
   },
   "outputs": [
    {
     "data": {
      "text/plain": [
       "KNeighborsClassifier(algorithm='auto', leaf_size=30, metric='minkowski',\n",
       "           metric_params=None, n_jobs=1, n_neighbors=5, p=2,\n",
       "           weights='uniform')"
      ]
     },
     "execution_count": 59,
     "metadata": {},
     "output_type": "execute_result"
    }
   ],
   "source": [
    "knn = KNeighborsClassifier()\n",
    "knn.fit(train_x, train_y)"
   ]
  },
  {
   "cell_type": "code",
   "execution_count": 60,
   "metadata": {
    "collapsed": false
   },
   "outputs": [
    {
     "data": {
      "text/html": [
       "<div>\n",
       "<table border=\"1\" class=\"dataframe\">\n",
       "  <thead>\n",
       "    <tr style=\"text-align: right;\">\n",
       "      <th>Predicted</th>\n",
       "      <th>0</th>\n",
       "    </tr>\n",
       "    <tr>\n",
       "      <th>Actual</th>\n",
       "      <th></th>\n",
       "    </tr>\n",
       "  </thead>\n",
       "  <tbody>\n",
       "    <tr>\n",
       "      <th>0</th>\n",
       "      <td>20</td>\n",
       "    </tr>\n",
       "  </tbody>\n",
       "</table>\n",
       "</div>"
      ],
      "text/plain": [
       "Predicted   0\n",
       "Actual       \n",
       "0          20"
      ]
     },
     "execution_count": 60,
     "metadata": {},
     "output_type": "execute_result"
    }
   ],
   "source": [
    "pd.crosstab(test_y, knn.predict(test_x), rownames=[\"Actual\"], colnames=[\"Predicted\"])"
   ]
  },
  {
   "cell_type": "code",
   "execution_count": 61,
   "metadata": {
    "collapsed": false
   },
   "outputs": [
    {
     "data": {
      "text/plain": [
       "False"
      ]
     },
     "execution_count": 61,
     "metadata": {},
     "output_type": "execute_result"
    }
   ],
   "source": [
    "knn.outputs_2d_"
   ]
  },
  {
   "cell_type": "code",
   "execution_count": 62,
   "metadata": {
    "collapsed": false
   },
   "outputs": [],
   "source": [
    "# string_to_img(new_image)"
   ]
  },
  {
   "cell_type": "code",
   "execution_count": 63,
   "metadata": {
    "collapsed": false
   },
   "outputs": [],
   "source": [
    "def string_to_img(image_string):\n",
    "    print(\"called string_to_image\")\n",
    "    #we need to decode the image from base64\n",
    "    image_string = base64.decodestring(image_string)\n",
    "    #since we're seing this as a JSON string, we use StringIO so it acts like a file\n",
    "    img = StringIO(image_string)\n",
    "    img = PIL.Image.open(img)\n",
    "    img = img.resize(STANDARD_SIZE)\n",
    "    img = list(img.getdata())\n",
    "    img = map(list, img)\n",
    "    img = np.array(img)\n",
    "    s = img.shape[0] * img.shape[1]\n",
    "    img_wide = img.reshape(1, s)\n",
    "    return pca.transform(img_wide[0])"
   ]
  },
  {
   "cell_type": "code",
   "execution_count": 64,
   "metadata": {
    "collapsed": false
   },
   "outputs": [],
   "source": [
    "def classify_image(data):\n",
    "    print(\"called classify_image\")\n",
    "    preds = knn.predict(data)\n",
    "    preds = np.where(preds==1, \"check\", \"drivers_license\")\n",
    "    pred = preds[0]\n",
    "    return {\"image_label\": pred}"
   ]
  },
  {
   "cell_type": "code",
   "execution_count": 65,
   "metadata": {
    "collapsed": false
   },
   "outputs": [],
   "source": [
    "from yhat import Yhat, YhatModel, preprocess"
   ]
  },
  {
   "cell_type": "code",
   "execution_count": 66,
   "metadata": {
    "collapsed": false
   },
   "outputs": [],
   "source": [
    "class ImageClassifier(YhatModel):\n",
    "    REQUIREMENTS = [\n",
    "      \"PIL==1.1.7\"\n",
    "    ]\n",
    "    \n",
    "    def execute(self, data):\n",
    "        print(\"called execute\")\n",
    "        img_string = data.get(\"image_as_base64_string\", None)\n",
    "        if img_string is None:\n",
    "            return {\"status\": \"error\", \"message\": \"data was None\", \"input_data\": data}\n",
    "        else:\n",
    "            img = string_to_img(img_string)\n",
    "            pred = classify_image(img)\n",
    "            return pred"
   ]
  },
  {
   "cell_type": "code",
   "execution_count": 67,
   "metadata": {
    "collapsed": false
   },
   "outputs": [
    {
     "ename": "Exception",
     "evalue": "Failed to authenticate: HTTPConnectionPool(host='cloud.yhathq.com', port=80): Max retries exceeded with url: /verify?username=USERNAME&apikey=YOUR+API+KEY (Caused by NewConnectionError('<requests.packages.urllib3.connection.HTTPConnection object at 0x7ff6a471dbe0>: Failed to establish a new connection: [Errno -3] Temporary failure in name resolution',))",
     "output_type": "error",
     "traceback": [
      "\u001b[1;31m---------------------------------------------------------------------------\u001b[0m",
      "\u001b[1;31mException\u001b[0m                                 Traceback (most recent call last)",
      "\u001b[1;32m<ipython-input-67-aee4de74fc8b>\u001b[0m in \u001b[0;36m<module>\u001b[1;34m()\u001b[0m\n\u001b[0;32m      1\u001b[0m \u001b[1;31m# authenticate\u001b[0m\u001b[1;33m\u001b[0m\u001b[1;33m\u001b[0m\u001b[0m\n\u001b[1;32m----> 2\u001b[1;33m \u001b[0myh\u001b[0m \u001b[1;33m=\u001b[0m \u001b[0mYhat\u001b[0m\u001b[1;33m(\u001b[0m\u001b[1;34m\"USERNAME\"\u001b[0m\u001b[1;33m,\u001b[0m \u001b[1;34m\"YOUR API KEY\"\u001b[0m\u001b[1;33m,\u001b[0m \u001b[1;34m\"http://cloud.yhathq.com/\"\u001b[0m\u001b[1;33m)\u001b[0m\u001b[1;33m\u001b[0m\u001b[0m\n\u001b[0m\u001b[0;32m      3\u001b[0m \u001b[1;33m\u001b[0m\u001b[0m\n\u001b[0;32m      4\u001b[0m \u001b[1;31m# upload model to yhat\u001b[0m\u001b[1;33m\u001b[0m\u001b[1;33m\u001b[0m\u001b[0m\n\u001b[0;32m      5\u001b[0m \u001b[0myh\u001b[0m\u001b[1;33m.\u001b[0m\u001b[0mdeploy\u001b[0m\u001b[1;33m(\u001b[0m\u001b[1;34m\"ImageClassifier\"\u001b[0m\u001b[1;33m,\u001b[0m \u001b[0mImageClassifier\u001b[0m\u001b[1;33m,\u001b[0m \u001b[0mglobals\u001b[0m\u001b[1;33m(\u001b[0m\u001b[1;33m)\u001b[0m\u001b[1;33m)\u001b[0m\u001b[1;33m\u001b[0m\u001b[0m\n",
      "\u001b[1;32m/home/vm/anaconda3/lib/python3.5/site-packages/yhat/api.py\u001b[0m in \u001b[0;36m__init__\u001b[1;34m(self, username, apikey, uri)\u001b[0m\n\u001b[0;32m    210\u001b[0m             \u001b[0me\u001b[0m \u001b[1;33m=\u001b[0m \u001b[0mself\u001b[0m\u001b[1;33m.\u001b[0m\u001b[0m_authenticate\u001b[0m\u001b[1;33m(\u001b[0m\u001b[1;33m)\u001b[0m\u001b[1;33m\u001b[0m\u001b[0m\n\u001b[0;32m    211\u001b[0m             \u001b[1;32mif\u001b[0m \u001b[0me\u001b[0m \u001b[1;32mis\u001b[0m \u001b[1;32mnot\u001b[0m \u001b[1;32mNone\u001b[0m\u001b[1;33m:\u001b[0m\u001b[1;33m\u001b[0m\u001b[0m\n\u001b[1;32m--> 212\u001b[1;33m                 \u001b[1;32mraise\u001b[0m \u001b[0mException\u001b[0m\u001b[1;33m(\u001b[0m\u001b[1;34m\"Failed to authenticate: {}\"\u001b[0m\u001b[1;33m.\u001b[0m\u001b[0mformat\u001b[0m\u001b[1;33m(\u001b[0m\u001b[0me\u001b[0m\u001b[1;33m)\u001b[0m\u001b[1;33m)\u001b[0m\u001b[1;33m\u001b[0m\u001b[0m\n\u001b[0m\u001b[0;32m    213\u001b[0m \u001b[1;33m\u001b[0m\u001b[0m\n\u001b[0;32m    214\u001b[0m     \u001b[1;32mdef\u001b[0m \u001b[0m_check_obj_size\u001b[0m\u001b[1;33m(\u001b[0m\u001b[0mself\u001b[0m\u001b[1;33m,\u001b[0m \u001b[0mobj\u001b[0m\u001b[1;33m)\u001b[0m\u001b[1;33m:\u001b[0m\u001b[1;33m\u001b[0m\u001b[0m\n",
      "\u001b[1;31mException\u001b[0m: Failed to authenticate: HTTPConnectionPool(host='cloud.yhathq.com', port=80): Max retries exceeded with url: /verify?username=USERNAME&apikey=YOUR+API+KEY (Caused by NewConnectionError('<requests.packages.urllib3.connection.HTTPConnection object at 0x7ff6a471dbe0>: Failed to establish a new connection: [Errno -3] Temporary failure in name resolution',))"
     ]
    }
   ],
   "source": [
    "# authenticate\n",
    "yh = Yhat(\"USERNAME\", \"YOUR API KEY\", \"http://cloud.yhathq.com/\")\n",
    " \n",
    "# upload model to yhat\n",
    "yh.deploy(\"ImageClassifier\", ImageClassifier, globals())"
   ]
  },
  {
   "cell_type": "code",
   "execution_count": 68,
   "metadata": {
    "collapsed": false
   },
   "outputs": [
    {
     "ename": "FileNotFoundError",
     "evalue": "[Errno 2] No such file or directory: '/Users/hernamesbarbara/Desktop/img/1-plot-iris.png'",
     "output_type": "error",
     "traceback": [
      "\u001b[1;31m---------------------------------------------------------------------------\u001b[0m",
      "\u001b[1;31mFileNotFoundError\u001b[0m                         Traceback (most recent call last)",
      "\u001b[1;32m<ipython-input-68-025d9faa5436>\u001b[0m in \u001b[0;36m<module>\u001b[1;34m()\u001b[0m\n\u001b[0;32m      1\u001b[0m \u001b[1;31m# i don't have the image data set any more\u001b[0m\u001b[1;33m\u001b[0m\u001b[1;33m\u001b[0m\u001b[0m\n\u001b[0;32m      2\u001b[0m \u001b[1;31m# so just some dummy data to get it to work :(\u001b[0m\u001b[1;33m\u001b[0m\u001b[1;33m\u001b[0m\u001b[0m\n\u001b[1;32m----> 3\u001b[1;33m \u001b[0mnew_image\u001b[0m \u001b[1;33m=\u001b[0m \u001b[0mopen\u001b[0m\u001b[1;33m(\u001b[0m\u001b[1;34m\"/Users/hernamesbarbara/Desktop/img/1-plot-iris.png\"\u001b[0m\u001b[1;33m,\u001b[0m \u001b[1;34m'rb'\u001b[0m\u001b[1;33m)\u001b[0m\u001b[1;33m.\u001b[0m\u001b[0mread\u001b[0m\u001b[1;33m(\u001b[0m\u001b[1;33m)\u001b[0m\u001b[1;33m\u001b[0m\u001b[0m\n\u001b[0m\u001b[0;32m      4\u001b[0m \u001b[1;33m\u001b[0m\u001b[0m\n\u001b[0;32m      5\u001b[0m \u001b[1;31m#we need to make the image JSON serializeable\u001b[0m\u001b[1;33m\u001b[0m\u001b[1;33m\u001b[0m\u001b[0m\n",
      "\u001b[1;31mFileNotFoundError\u001b[0m: [Errno 2] No such file or directory: '/Users/hernamesbarbara/Desktop/img/1-plot-iris.png'"
     ]
    }
   ],
   "source": [
    "# i don't have the image data set any more \n",
    "# so just some dummy data to get it to work :(\n",
    "new_image = open(\"/Users/hernamesbarbara/Desktop/img/1-plot-iris.png\", 'rb').read()\n",
    "\n",
    "#we need to make the image JSON serializeable\n",
    "new_image = base64.encodestring(new_image)\n",
    "\n",
    "yh.predict(\"ImageClassifier\", {\"image_as_base64_string\": new_image})"
   ]
  },
  {
   "cell_type": "code",
   "execution_count": null,
   "metadata": {
    "collapsed": false
   },
   "outputs": [],
   "source": []
  },
  {
   "cell_type": "code",
   "execution_count": null,
   "metadata": {
    "collapsed": true
   },
   "outputs": [],
   "source": []
  },
  {
   "cell_type": "code",
   "execution_count": null,
   "metadata": {
    "collapsed": true
   },
   "outputs": [],
   "source": []
  },
  {
   "cell_type": "code",
   "execution_count": null,
   "metadata": {
    "collapsed": true
   },
   "outputs": [],
   "source": []
  },
  {
   "cell_type": "code",
   "execution_count": null,
   "metadata": {
    "collapsed": true
   },
   "outputs": [],
   "source": []
  },
  {
   "cell_type": "code",
   "execution_count": null,
   "metadata": {
    "collapsed": true
   },
   "outputs": [],
   "source": []
  },
  {
   "cell_type": "code",
   "execution_count": null,
   "metadata": {
    "collapsed": true
   },
   "outputs": [],
   "source": []
  },
  {
   "cell_type": "code",
   "execution_count": null,
   "metadata": {
    "collapsed": true
   },
   "outputs": [],
   "source": []
  },
  {
   "cell_type": "code",
   "execution_count": null,
   "metadata": {
    "collapsed": true
   },
   "outputs": [],
   "source": []
  },
  {
   "cell_type": "code",
   "execution_count": null,
   "metadata": {
    "collapsed": true
   },
   "outputs": [],
   "source": []
  },
  {
   "cell_type": "code",
   "execution_count": null,
   "metadata": {
    "collapsed": true
   },
   "outputs": [],
   "source": []
  },
  {
   "cell_type": "code",
   "execution_count": null,
   "metadata": {
    "collapsed": true
   },
   "outputs": [],
   "source": []
  },
  {
   "cell_type": "code",
   "execution_count": null,
   "metadata": {
    "collapsed": true
   },
   "outputs": [],
   "source": []
  },
  {
   "cell_type": "code",
   "execution_count": null,
   "metadata": {
    "collapsed": true
   },
   "outputs": [],
   "source": []
  }
 ],
 "metadata": {
  "anaconda-cloud": {},
  "kernelspec": {
   "display_name": "Python [Root]",
   "language": "python",
   "name": "Python [Root]"
  },
  "language_info": {
   "codemirror_mode": {
    "name": "ipython",
    "version": 3
   },
   "file_extension": ".py",
   "mimetype": "text/x-python",
   "name": "python",
   "nbconvert_exporter": "python",
   "pygments_lexer": "ipython3",
   "version": "3.5.2"
  }
 },
 "nbformat": 4,
 "nbformat_minor": 0
}
